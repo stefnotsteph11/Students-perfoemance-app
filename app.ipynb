#Importar librerias
import pandas as pd
import plotly.express as px
from dash import Dash, dcc, html
from jupyter_dash import JupyterDash

# Cargar el dataset
df = pd.read_csv("StudentsPerformance.csv")

# Verificar datos cargados
df.head()

# Crear la app con JupyterDash
app = JupyterDash(__name__)

# Ejemplo de gráfico: distribución de puntajes de matemáticas por género
fig = px.histogram(df, x="math score", color="gender", nbins=20, barmode="overlay")

# Layout de la app
app.layout = html.Div([
    html.H1("Dashboard - Students Performance", style={"textAlign": "center"}),
    dcc.Graph(figure=fig)
])

# Ejecutar la app dentro de Jupyter/Binder
app.run_server(mode="inline")
