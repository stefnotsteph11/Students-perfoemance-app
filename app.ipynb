{
 "cells": [
  {
   "cell_type": "code",
   "execution_count": null,
   "id": "03853949-c0e0-44c1-99c1-8fe9ba207229",
   "metadata": {},
   "outputs": [],
   "source": [
    "# Crear la app con JupyterDash\n",
    "app = JupyterDash(__name__)\n",
    "\n",
    "# Ejemplo de gráfico: distribución de puntajes de matemáticas por género\n",
    "fig = px.histogram(df, x=\"math score\", color=\"gender\", nbins=20, barmode=\"overlay\")\n",
    "\n",
    "# Layout de la app\n",
    "app.layout = html.Div([\n",
    "    html.H1(\"Dashboard - Students Performance\", style={\"textAlign\": \"center\"}),\n",
    "    dcc.Graph(figure=fig)\n",
    "])\n",
    "\n",
    "# Ejecutar la app dentro de Jupyter/Binder\n",
    "app.run_server(mode=\"inline\")\n"
   ]
  }
 ],
 "metadata": {
  "kernelspec": {
   "display_name": "Python 3 (ipykernel)",
   "language": "python",
   "name": "python3"
  },
  "language_info": {
   "codemirror_mode": {
    "name": "ipython",
    "version": 3
   },
   "file_extension": ".py",
   "mimetype": "text/x-python",
   "name": "python",
   "nbconvert_exporter": "python",
   "pygments_lexer": "ipython3",
   "version": "3.10.16"
  }
 },
 "nbformat": 4,
 "nbformat_minor": 5
}
