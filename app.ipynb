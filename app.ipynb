{
 "cells": [
  {
   "cell_type": "markdown",
   "metadata": {},
   "source": [
    "# Dashboard con Dash y Plotly\n",
    "Este notebook crea una aplicación interactiva que carga el dataset `StudentsPerformance.csv` y permite explorar las variables."
   ]
  },
  {
   "cell_type": "code",
   "execution_count": null,
   "metadata": {},
   "outputs": [],
   "source": [
    "# Importar librerías necesarias\n",
    "import pandas as pd\n",
    "import plotly.express as px\n",
    "from dash import Dash, dcc, html, Input, Output"
   ]
  },
  {
   "cell_type": "code",
   "execution_count": null,
   "metadata": {},
   "outputs": [],
   "source": [
    "# Cargar dataset\n",
    "df = pd.read_csv(\"StudentsPerformance.csv\")\n",
    "df.head()"
   ]
  },
  {
   "cell_type": "code",
   "execution_count": null,
   "metadata": {},
   "outputs": [],
   "source": [
    "# Crear la aplicación Dash\n",
    "app = Dash(__name__)\n",
    "\n",
    "# Layout de la aplicación\n",
    "app.layout = html.Div([\n",
    "    html.H1(\"Dashboard de Estudiantes\", style={'textAlign': 'center'}),\n",
    "\n",
    "    dcc.Dropdown(\n",
    "        id='dropdown-columna',\n",
    "        options=[{'label': col, 'value': col} for col in df.columns],\n",
    "        value=df.columns[0],  # valor inicial: primera columna del dataset\n",
    "        clearable=False\n",
    "    ),\n",
    "\n",
    "    dcc.Graph(id='grafico')\n",
    "])\n",
    "\n",
    "# Callback para actualizar gráfico dinámicamente\n",
    "@app.callback(\n",
    "    Output('grafico', 'figure'),\n",
    "    Input('dropdown-columna', 'value')\n",
    ")\n",
    "def actualizar_grafico(columna):\n",
    "    fig = px.histogram(df, x=columna, title=f\"Distribución de {columna}\")\n",
    "    return fig\n",
    "\n",
    "# Ejecutar app\n",
    "if __name__ == \"__main__\":\n",
    "    app.run_server(debug=True, port=8050)"
   ]
  }
 ],
 "metadata": {
  "kernelspec": {
   "display_name": "Python 3",
   "language": "python",
   "name": "python3"
  },
  "language_info": {
   "codemirror_mode": {
    "name": "ipython",
    "version": 3
   },
   "file_extension": ".py",
   "mimetype": "text/x-python",
   "name": "python",
   "nbconvert_exporter": "python",
   "pygments_lexer": "ipython3",
   "version": "3.9"
  }
 },
 "nbformat": 4,
 "nbformat_minor": 5
}
